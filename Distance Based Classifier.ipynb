{
 "cells": [
  {
   "cell_type": "markdown",
   "metadata": {},
   "source": [
    "# Quantum Distance Based Classifier"
   ]
  },
  {
   "cell_type": "markdown",
   "metadata": {},
   "source": [
    "#### Follows the implementation of the Quantum Distance Based Classifier by Schuld, Fingerhuth and Petruccione\n",
    "#### For more details: https://arxiv.org/abs/1703.10793 [1]"
   ]
  },
  {
   "cell_type": "markdown",
   "metadata": {},
   "source": [
    "#### To prevent inconsistencies, I have to notice you that in [1], the circuit starts by superposing both |a> and |m>.  In my circuit, I decided to postpone the application of H on |m> for an illustrative purpose. However, this difference doesn't affect in any way the computation."
   ]
  },
  {
   "cell_type": "code",
   "execution_count": 33,
   "metadata": {},
   "outputs": [],
   "source": [
    "import qiskit\n",
    "import numpy as np\n",
    "import random\n",
    "import math\n",
    "import matplotlib.pyplot as plt\n",
    "from qiskit import QuantumCircuit, QuantumRegister, ClassicalRegister, execute, BasicAer, Aer\n",
    "from qiskit.extensions import Initialize, UnitaryGate\n",
    "from qiskit.visualization import plot_histogram, plot_bloch_multivector, plot_state_city\n",
    "#from qiskit_textbook.tools import random_state, array_to_latex\n",
    "#from utility import qdrawer"
   ]
  },
  {
   "cell_type": "markdown",
   "metadata": {},
   "source": [
    "## Quantum Circuit"
   ]
  },
  {
   "cell_type": "code",
   "execution_count": 34,
   "metadata": {},
   "outputs": [],
   "source": [
    "class QDistanceBasedClassifier:\n",
    "    \n",
    "####################################################################\n",
    "    def get_circuit(self):\n",
    "        return self.qc\n",
    "        \n",
    "####################################################################\n",
    "        \n",
    "    def _step_A(self, a):\n",
    "        '''Uniform superpos of ancilla and index qubit'''\n",
    "        self.qc.h(a)\n",
    "        self.qc.barrier()\n",
    "\n",
    "####################################################################\n",
    "\n",
    "    def _step_B(self, alpha, a, b, c):\n",
    "        '''Loading test vector  '''\n",
    "        self.qc.mcry(alpha, a, c[0], None) \n",
    "        self.qc.barrier()\n",
    "        self.qc.x(a)\n",
    "        self.qc.barrier()\n",
    "        self.qc.h(b)\n",
    "        self.qc.barrier()\n",
    "\n",
    "        \n",
    "####################################################################\n",
    "\n",
    "    def _step_C(self, a, b, c):\n",
    "        '''Loading first training vector'''\n",
    "        self.qc.ccx(a,b,c)\n",
    "        self.qc.x(b)\n",
    "        self.qc.barrier()\n",
    "\n",
    "####################################################################\n",
    "        \n",
    "    def _step_D(self, alpha, a, b, c, d):\n",
    "        '''Load second training vector'''\n",
    "        self.qc.mcry(alpha, a[0:]+b[0:], c[0], None) \n",
    "        self.qc.barrier()\n",
    "        self.qc.cx(b, d)\n",
    "        self.qc.barrier()\n",
    "        \n",
    "####################################################################\n",
    "\n",
    "    def _step_F(self, a):\n",
    "        '''Compute distance'''\n",
    "        self.qc.h(a)\n",
    "        self.qc.barrier()\n",
    "        \n",
    "####################################################################\n",
    "\n",
    "    def step_measure(self):\n",
    "        '''Measurements'''\n",
    "        self.qc.measure(self.aqr, self.c_areg)\n",
    "        self.qc.measure(self.cqr, self.c_creg)\n",
    "        \n",
    "####################################################################\n",
    "\n",
    "    def _init_qc(self):\n",
    "        aqr = QuantumRegister(1, name=\"ancilla \")\n",
    "        mqr = QuantumRegister(1, name=\"index qregister \") #Just one since we have only two training inputs\n",
    "        iqr = QuantumRegister(1, name=\"data register \")\n",
    "        cqr = QuantumRegister(1, name=\"classes \")\n",
    "\n",
    "        c_areg = ClassicalRegister(1, name=\"classical ancilla \")\n",
    "        c_creg = ClassicalRegister(1, name=\"classical classes \")\n",
    "        \n",
    "        qc = QuantumCircuit(aqr, mqr, iqr, cqr, c_areg, c_creg)\n",
    "        return qc, aqr, mqr, iqr, cqr, c_areg, c_creg\n",
    "    \n",
    "####################################################################\n",
    "\n",
    "    def __init__(self, alpha_tr_1, alpha_test):\n",
    "        self.qc, self.aqr, self.mqr, self.iqr, self.cqr, self.c_areg, self.c_creg = self._init_qc()\n",
    "        \n",
    "        #Uniform superpos of ancilla and index qubits\n",
    "        self._step_A(self.aqr)\n",
    "\n",
    "        #Loading test vector\n",
    "        self._step_B(alpha_test, self.aqr, self.mqr, self.iqr)\n",
    "\n",
    "        #Loading first training vector\n",
    "        self._step_C(self.aqr, self.mqr, self.iqr)\n",
    "\n",
    "        #Load second training vector\n",
    "        self._step_D(alpha_tr_1, self.aqr, self.mqr, self.iqr, self.cqr)\n",
    "\n",
    "        #compute distance\n",
    "        self._step_F(self.aqr)\n",
    "        \n",
    "        self.step_measure()     \n",
    "\n",
    "####################################################################"
   ]
  },
  {
   "cell_type": "markdown",
   "metadata": {},
   "source": [
    "# MAIN"
   ]
  },
  {
   "cell_type": "markdown",
   "metadata": {},
   "source": [
    "### Load Circuit"
   ]
  },
  {
   "cell_type": "code",
   "execution_count": 35,
   "metadata": {},
   "outputs": [
    {
     "name": "stdout",
     "output_type": "stream",
     "text": [
      "Test Vector's alpha: 4.30373230357443\n",
      "Training_1 Vector's alpha: 1.3241904926325558\n"
     ]
    }
   ],
   "source": [
    "#Follows the paper's inputs\n",
    "\n",
    "test_1 = [-0.549, 0.836]   \n",
    "tr_0 = [0,1] \n",
    "tr_1 = [0.789, 0.615]\n",
    "\n",
    "\n",
    "#Computing the rotation angle\n",
    "alpha_test = np.arctan2(test_1[1], test_1[0])*2\n",
    "alpha_tr_1 = np.arctan2(tr_1[1], tr_1[0])*2\n",
    "print(\"Test Vector's alpha:\", alpha_test)\n",
    "print(\"Training_1 Vector's alpha:\", alpha_tr_1)\n",
    "#using arcatan2 --> Obtain the correct quadrans. Otherwise, with arctan(y/x) you cannot get the correct quadrant\n",
    "#ex: -1.52 can be obtained from (-y/x) and (y/-x)\n",
    "\n",
    "\n",
    "q_distance_based_classifier = QDistanceBasedClassifier(alpha_tr_1, alpha_test)"
   ]
  },
  {
   "cell_type": "code",
   "execution_count": 36,
   "metadata": {},
   "outputs": [
    {
     "data": {
      "image/png": "[encoded data removed]",
      "text/plain": [
       "<Figure size 1742.74x385.28 with 1 Axes>"
      ]
     },
     "execution_count": 36,
     "metadata": {},
     "output_type": "execute_result"
    }
   ],
   "source": [
    "q_distance_based_circuit = q_distance_based_classifier.get_circuit()\n",
    "q_distance_based_circuit.draw(output='mpl')"
   ]
  },
  {
   "cell_type": "markdown",
   "metadata": {},
   "source": [
    "## Plotting Dataset (Unitary circle)"
   ]
  },
  {
   "cell_type": "code",
   "execution_count": 37,
   "metadata": {},
   "outputs": [
    {
     "ename": "NameError",
     "evalue": "name 'qdrawer' is not defined",
     "output_type": "error",
     "traceback": [
      "\u001b[0;31m---------------------------------------------------------------------------\u001b[0m",
      "\u001b[0;31mNameError\u001b[0m                                 Traceback (most recent call last)",
      "\u001b[0;32m/var/folders/37/8ckg6c8n10n94f4dv2xdfll00000gn/T/ipykernel_2284/1739987903.py\u001b[0m in \u001b[0;36m<module>\u001b[0;34m\u001b[0m\n\u001b[0;32m----> 1\u001b[0;31m \u001b[0mqdrawer\u001b[0m\u001b[0;34m.\u001b[0m\u001b[0mdraw_qubit\u001b[0m\u001b[0;34m(\u001b[0m\u001b[0;34m)\u001b[0m\u001b[0;34m\u001b[0m\u001b[0;34m\u001b[0m\u001b[0m\n\u001b[0m\u001b[1;32m      2\u001b[0m \u001b[0mqdrawer\u001b[0m\u001b[0;34m.\u001b[0m\u001b[0mdraw_quantum_state\u001b[0m\u001b[0;34m(\u001b[0m\u001b[0mtest_1\u001b[0m\u001b[0;34m[\u001b[0m\u001b[0;36m0\u001b[0m\u001b[0;34m]\u001b[0m\u001b[0;34m,\u001b[0m\u001b[0mtest_1\u001b[0m\u001b[0;34m[\u001b[0m\u001b[0;36m1\u001b[0m\u001b[0;34m]\u001b[0m\u001b[0;34m,\u001b[0m\u001b[0;34m\"test\"\u001b[0m\u001b[0;34m,\u001b[0m \u001b[0mcolor\u001b[0m\u001b[0;34m=\u001b[0m\u001b[0;34m'orange'\u001b[0m\u001b[0;34m)\u001b[0m\u001b[0;34m\u001b[0m\u001b[0;34m\u001b[0m\u001b[0m\n\u001b[1;32m      3\u001b[0m \u001b[0mqdrawer\u001b[0m\u001b[0;34m.\u001b[0m\u001b[0mdraw_quantum_state\u001b[0m\u001b[0;34m(\u001b[0m\u001b[0mtr_1\u001b[0m\u001b[0;34m[\u001b[0m\u001b[0;36m0\u001b[0m\u001b[0;34m]\u001b[0m\u001b[0;34m,\u001b[0m\u001b[0mtr_1\u001b[0m\u001b[0;34m[\u001b[0m\u001b[0;36m1\u001b[0m\u001b[0;34m]\u001b[0m\u001b[0;34m,\u001b[0m\u001b[0;34m\"training_1\"\u001b[0m\u001b[0;34m,\u001b[0m \u001b[0mcolor\u001b[0m\u001b[0;34m=\u001b[0m\u001b[0;34m'orange'\u001b[0m\u001b[0;34m)\u001b[0m\u001b[0;34m\u001b[0m\u001b[0;34m\u001b[0m\u001b[0m\n\u001b[1;32m      4\u001b[0m \u001b[0mqdrawer\u001b[0m\u001b[0;34m.\u001b[0m\u001b[0mdraw_quantum_state\u001b[0m\u001b[0;34m(\u001b[0m\u001b[0;36m0\u001b[0m\u001b[0;34m,\u001b[0m \u001b[0;36m1\u001b[0m\u001b[0;34m,\u001b[0m\u001b[0;34m\"training_0\"\u001b[0m\u001b[0;34m,\u001b[0m \u001b[0mcolor\u001b[0m\u001b[0;34m=\u001b[0m\u001b[0;34m'orange'\u001b[0m\u001b[0;34m)\u001b[0m\u001b[0;34m\u001b[0m\u001b[0;34m\u001b[0m\u001b[0m\n",
      "\u001b[0;31mNameError\u001b[0m: name 'qdrawer' is not defined"
     ]
    }
   ],
   "source": [
    "qdrawer.draw_qubit()\n",
    "qdrawer.draw_quantum_state(test_1[0],test_1[1],\"test\", color='orange')\n",
    "qdrawer.draw_quantum_state(tr_1[0],tr_1[1],\"training_1\", color='orange')\n",
    "qdrawer.draw_quantum_state(0, 1,\"training_0\", color='orange')"
   ]
  },
  {
   "cell_type": "markdown",
   "metadata": {},
   "source": [
    "# Simulation"
   ]
  },
  {
   "cell_type": "code",
   "execution_count": 38,
   "metadata": {},
   "outputs": [],
   "source": [
    "simulator = Aer.get_backend('qasm_simulator')\n",
    "job = execute(q_distance_based_circuit, simulator, shots=4096)\n",
    "result = job.result()\n",
    "counts = result.get_counts(q_distance_based_circuit)\n",
    "counts = {k: counts[k] for k in counts.keys() & {'0 0', '1 0'}}"
   ]
  },
  {
   "cell_type": "code",
   "execution_count": 39,
   "metadata": {},
   "outputs": [
    {
     "data": {
      "image/png": "[encoded data removed]",
      "text/plain": [
       "<Figure size 504x360 with 1 Axes>"
      ]
     },
     "execution_count": 39,
     "metadata": {},
     "output_type": "execute_result"
    }
   ],
   "source": [
    "plot_histogram(counts, title=\"Classes\")"
   ]
  },
  {
   "cell_type": "markdown",
   "metadata": {},
   "source": [
    "### On x axis, the highest bit indicates the output class. So:\n",
    "#### 00 --> test vector belongs to class 0\n",
    "#### 10 --> test vector belongs to class 1"
   ]
  },
  {
   "cell_type": "code",
   "execution_count": null,
   "metadata": {},
   "outputs": [],
   "source": []
  }
 ],
 "metadata": {
  "kernelspec": {
   "display_name": "Python 3 (ipykernel)",
   "language": "python",
   "name": "python3"
  },
  "language_info": {
   "codemirror_mode": {
    "name": "ipython",
    "version": 3
   },
   "file_extension": ".py",
   "mimetype": "text/x-python",
   "name": "python",
   "nbconvert_exporter": "python",
   "pygments_lexer": "ipython3",
   "version": "3.9.7"
  }
 },
 "nbformat": 4,
 "nbformat_minor": 4
}
